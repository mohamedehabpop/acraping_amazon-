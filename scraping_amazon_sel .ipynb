{
 "cells": [
  {
   "cell_type": "code",
   "execution_count": 47,
   "id": "9f04d654",
   "metadata": {},
   "outputs": [],
   "source": [
    "# imports \n",
    "from selenium import webdriver\n",
    "from webdriver_manager.chrome import ChromeDriverManager\n",
    "from selenium.webdriver.common.by import By \n",
    "from itertools import zip_longest\n",
    "import csv"
   ]
  },
  {
   "cell_type": "code",
   "execution_count": 48,
   "id": "e53ca6f9",
   "metadata": {},
   "outputs": [],
   "source": [
    "# lists to save the data \n",
    "names = []\n",
    "prices = []\n",
    "rating = []"
   ]
  },
  {
   "cell_type": "code",
   "execution_count": 49,
   "id": "e4377e20",
   "metadata": {
    "scrolled": true
   },
   "outputs": [
    {
     "name": "stderr",
     "output_type": "stream",
     "text": [
      "\n",
      "\n",
      "====== WebDriver manager ======\n",
      "Current google-chrome version is 101.0.4951\n",
      "Get LATEST chromedriver version for 101.0.4951 google-chrome\n",
      "Driver [C:\\Users\\NOUR\\.wdm\\drivers\\chromedriver\\win32\\101.0.4951.41\\chromedriver.exe] found in cache\n",
      "C:\\Users\\NOUR\\AppData\\Local\\Temp/ipykernel_14060/2861164071.py:1: DeprecationWarning: executable_path has been deprecated, please pass in a Service object\n",
      "  driver = webdriver.Chrome(executable_path=ChromeDriverManager().install())\n"
     ]
    }
   ],
   "source": [
    "# getting the data from the website \n",
    "driver = webdriver.Chrome(executable_path=ChromeDriverManager().install())\n",
    "driver.maximize_window()\n",
    "driver.get('https://www.amazon.com/s?k=samsung+phone&crid=ZJ2KAPE3JEL3&sprefix=samsung+phone%2Caps%2C463&ref=nb_sb_noss_1')\n",
    "driver.implicitly_wait(20)\n",
    "phone_names = driver.find_elements(By.XPATH,\"//h2[contains(@class,'a-size-mini a-spacing-none a-color')]\")\n",
    "phone_prices = driver.find_elements(By.XPATH,\"//span[contains(@class,'a-price-whole')]\")\n",
    "phone_rates = driver.find_elements(By.XPATH,'//*[@id=\"search\"]/div[1]/div[1]/div/span[3]/div[2]/div[2]/div/div/div/div/div/div/div/div[2]/div/div/div[2]/div/span[1]/span/a/i[1]/span')\n",
    " \n",
    "    "
   ]
  },
  {
   "cell_type": "code",
   "execution_count": 54,
   "id": "b2f0e13b",
   "metadata": {},
   "outputs": [
    {
     "name": "stdout",
     "output_type": "stream",
     "text": [
      "done\n"
     ]
    }
   ],
   "source": [
    "for i in phone_names:\n",
    "    names.append(i.text)\n",
    "    \n",
    "for x in phone_prices:\n",
    "    prices.append(x.text)\n",
    "    \n",
    "for z in phone_rates:\n",
    "    rating.append(z.text)\n",
    "print('done')"
   ]
  },
  {
   "cell_type": "code",
   "execution_count": 50,
   "id": "5fa8653d",
   "metadata": {},
   "outputs": [],
   "source": [
    "#to unpack and pair the separated values with each other \n",
    "file_list = [names,prices,rating]\n",
    "exported = zip_longest(*file_list)"
   ]
  },
  {
   "cell_type": "code",
   "execution_count": 51,
   "id": "3b05ebf6",
   "metadata": {},
   "outputs": [],
   "source": [
    "with open(\"C:/Users/NOUR/OneDrive/Desktop/freelancing/web scraping/amazon/phones.csv\",\"w\") as myfile:\n",
    "    wr = csv.writer(myfile)\n",
    "    wr.writerow([\"phone name\",\"phone price\",\"phone rate\"])\n",
    "    wr.writerows(exported)"
   ]
  }
 ],
 "metadata": {
  "kernelspec": {
   "display_name": "Python 3 (ipykernel)",
   "language": "python",
   "name": "python3"
  },
  "language_info": {
   "codemirror_mode": {
    "name": "ipython",
    "version": 3
   },
   "file_extension": ".py",
   "mimetype": "text/x-python",
   "name": "python",
   "nbconvert_exporter": "python",
   "pygments_lexer": "ipython3",
   "version": "3.9.7"
  }
 },
 "nbformat": 4,
 "nbformat_minor": 5
}
